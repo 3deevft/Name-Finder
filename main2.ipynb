---------------------------------------------
โปรแกรมสามารถทำได้สี่อย่างต้องการได้แก้ 
1.หาชื่อจากรหัส พิมพ์ : numtoname
2.หารหัสจากชื่อจริง พิมพ์ : nametonum
3.หาห้องและเลขที่จากชื่อ พิมพ์ : nametoclass
4.หาชื่อจากห้องและเลขที่ พิมพ์ : classtoname
5.ดูรายชื่อห้อง พิมพ์ allroom ตามด้วยเลขห้องเช่น ห้อง 7 เป็น : allroom7
6.พิมพ์ allroom เพื่อดูรายชื่อทุกคน
พืมพ์ quit เพื่อหยุดโปรแกรม
User : numtoname
System : ระบบค้นหาชื่อจากรหัสประจำตัวนักเรียน
System : รหัสประจำตัวนักเรียนคือ 
User : 66069
เติมบุญ ประกิตชัยวัฒนา
---------------------------------------------
โปรแกรมสามารถทำได้สี่อย่างต้องการได้แก้ 
1.หาชื่อจากรหัส พิมพ์ : numtoname
2.หารหัสจากชื่อจริง พิมพ์ : nametonum
3.หาห้องและเลขที่จากชื่อ พิมพ์ : nametoclass
4.หาชื่อจากห้องและเลขที่ พิมพ์ : classtoname
5.ดูรายชื่อห้อง พิมพ์ allroom ตามด้วยเลขห้องเช่น ห้อง 7 เป็น : allroom7
6.พิมพ์ allroom เพื่อดูรายชื่อทุกคน
พืมพ์ quit เพื่อหยุดโปรแกรม
---------------------------------------------------------------------------
KeyboardInterrupt                         Traceback (most recent call last)
<ipython-input-44-cd432b50a648> in <cell line: 561>()
    559           print("System : Unknown command")
    560 
--> 561 play()
    562 
    563 

2 frames
/usr/local/lib/python3.10/dist-packages/ipykernel/kernelbase.py in _input_request(self, prompt, ident, parent, password)
    893             except KeyboardInterrupt:
    894                 # re-raise KeyboardInterrupt, to truncate traceback
--> 895                 raise KeyboardInterrupt("Interrupted by user") from None
    896             except Exception as e:
    897                 self.log.warning("Invalid Message:", exc_info=True)

KeyboardInterrupt: Interrupted by user
